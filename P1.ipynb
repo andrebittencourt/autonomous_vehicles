{
 "cells": [
  {
   "cell_type": "markdown",
   "metadata": {},
   "source": [
    "# **Finding Lane Lines on the Road** \n",
    "***\n",
    "In this project, you will use the tools you learned about in the lesson to identify lane lines on the road.  You can develop your pipeline on a series of individual images, and later apply the result to a video stream (really just a series of images). Check out the video clip \"raw-lines-example.mp4\" (also contained in this repository) to see what the output should look like after using the helper functions below. \n",
    "\n",
    "Once you have a result that looks roughly like \"raw-lines-example.mp4\", you'll need to get creative and try to average and/or extrapolate the line segments you've detected to map out the full extent of the lane lines.  You can see an example of the result you're going for in the video \"P1_example.mp4\".  Ultimately, you would like to draw just one line for the left side of the lane, and one for the right.\n",
    "\n",
    "---\n",
    "Let's have a look at our first image called 'test_images/solidWhiteRight.jpg'.  Run the 2 cells below (hit Shift-Enter or the \"play\" button above) to display the image.\n",
    "\n",
    "**Note** If, at any point, you encounter frozen display windows or other confounding issues, you can always start again with a clean slate by going to the \"Kernel\" menu above and selecting \"Restart & Clear Output\".\n",
    "\n",
    "---"
   ]
  },
  {
   "cell_type": "markdown",
   "metadata": {},
   "source": [
    "**The tools you have are color selection, region of interest selection, grayscaling, Gaussian smoothing, Canny Edge Detection and Hough Tranform line detection.  You  are also free to explore and try other techniques that were not presented in the lesson.  Your goal is piece together a pipeline to detect the line segments in the image, then average/extrapolate them and draw them onto the image for display (as below).  Once you have a working pipeline, try it out on the video stream below.**\n",
    "\n",
    "---\n",
    "\n",
    "<figure>\n",
    " <img src=\"line-segments-example.jpg\" width=\"380\" alt=\"Combined Image\" />\n",
    " <figcaption>\n",
    " <p></p> \n",
    " <p style=\"text-align: center;\"> Your output should look something like this (above) after detecting line segments using the helper functions below </p> \n",
    " </figcaption>\n",
    "</figure>\n",
    " <p></p> \n",
    "<figure>\n",
    " <img src=\"laneLines_thirdPass.jpg\" width=\"380\" alt=\"Combined Image\" />\n",
    " <figcaption>\n",
    " <p></p> \n",
    " <p style=\"text-align: center;\"> Your goal is to connect/average/extrapolate line segments to get output like this</p> \n",
    " </figcaption>\n",
    "</figure>"
   ]
  },
  {
   "cell_type": "code",
   "execution_count": null,
   "metadata": {
    "collapsed": false
   },
   "outputs": [],
   "source": [
    "#importing some useful packages\n",
    "import matplotlib.pyplot as plt\n",
    "import matplotlib.image as mpimg\n",
    "import numpy as np\n",
    "import cv2\n",
    "%matplotlib inline"
   ]
  },
  {
   "cell_type": "code",
   "execution_count": null,
   "metadata": {
    "collapsed": false
   },
   "outputs": [],
   "source": [
    "#reading in an image\n",
    "image = mpimg.imread('test_images/solidWhiteRight.jpg')\n",
    "#printing out some stats and plotting\n",
    "print('This image is:', type(image), 'with dimesions:', image.shape)\n",
    "plt.imshow(image)  #call as plt.imshow(gray, cmap='gray') to show a grayscaled image"
   ]
  },
  {
   "cell_type": "markdown",
   "metadata": {},
   "source": [
    "**Some OpenCV functions (beyond those introduced in the lesson) that might be useful for this project are:**\n",
    "\n",
    "`cv2.inRange()` for color selection  \n",
    "`cv2.fillPoly()` for regions selection  \n",
    "`cv2.line()` to draw lines on an image given endpoints  \n",
    "`cv2.addWeighted()` to coadd / overlay two images\n",
    "`cv2.cvtColor()` to grayscale or change color\n",
    "`cv2.imwrite()` to output images to file  \n",
    "`cv2.bitwise_and()` to apply a mask to an image\n",
    "\n",
    "**Check out the OpenCV documentation to learn about these and discover even more awesome functionality!**"
   ]
  },
  {
   "cell_type": "markdown",
   "metadata": {},
   "source": [
    "Below are some helper functions to help get you started. They should look familiar from the lesson!"
   ]
  },
  {
   "cell_type": "code",
   "execution_count": null,
   "metadata": {
    "collapsed": true
   },
   "outputs": [],
   "source": [
    "import math\n",
    "\n",
    "def grayscale(img):\n",
    "    \"\"\"Applies the Grayscale transform\n",
    "    This will return an image with only one color channel\n",
    "    but NOTE: to see the returned image as grayscale\n",
    "    you should call plt.imshow(gray, cmap='gray')\"\"\"\n",
    "    return cv2.cvtColor(img, cv2.COLOR_RGB2GRAY)\n",
    "    # Or use BGR2GRAY if you read an image with cv2.imread()\n",
    "    # return cv2.cvtColor(img, cv2.COLOR_BGR2GRAY)\n",
    "    \n",
    "def canny(img, low_threshold, high_threshold):\n",
    "    \"\"\"Applies the Canny transform\"\"\"\n",
    "    return cv2.Canny(img, low_threshold, high_threshold)\n",
    "\n",
    "def gaussian_blur(img, kernel_size):\n",
    "    \"\"\"Applies a Gaussian Noise kernel\"\"\"\n",
    "    return cv2.GaussianBlur(img, (kernel_size, kernel_size), 0)\n",
    "\n",
    "def region_of_interest(img, vertices):\n",
    "    \"\"\"\n",
    "    Applies an image mask.\n",
    "    \n",
    "    Only keeps the region of the image defined by the polygon\n",
    "    formed from `vertices`. The rest of the image is set to black.\n",
    "    \"\"\"\n",
    "    #defining a blank mask to start with\n",
    "    mask = np.zeros_like(img)   \n",
    "    \n",
    "    #defining a 3 channel or 1 channel color to fill the mask with depending on the input image\n",
    "    if len(img.shape) > 2:\n",
    "        channel_count = img.shape[2]  # i.e. 3 or 4 depending on your image\n",
    "        ignore_mask_color = (255,) * channel_count\n",
    "    else:\n",
    "        ignore_mask_color = 255\n",
    "        \n",
    "    #filling pixels inside the polygon defined by \"vertices\" with the fill color    \n",
    "    cv2.fillPoly(mask, vertices, ignore_mask_color)\n",
    "    \n",
    "    #returning the image only where mask pixels are nonzero\n",
    "    masked_image = cv2.bitwise_and(img, mask)\n",
    "    return masked_image\n",
    "\n",
    "\n",
    "def draw_lines(img, lines, color=[255, 0, 0], thickness=2):\n",
    "    \"\"\"\n",
    "    NOTE: this is the function you might want to use as a starting point once you want to \n",
    "    average/extrapolate the line segments you detect to map out the full\n",
    "    extent of the lane (going from the result shown in raw-lines-example.mp4\n",
    "    to that shown in P1_example.mp4).  \n",
    "    \n",
    "    Think about things like separating line segments by their \n",
    "    slope ((y2-y1)/(x2-x1)) to decide which segments are part of the left\n",
    "    line vs. the right line.  Then, you can average the position of each of \n",
    "    the lines and extrapolate to the top and bottom of the lane.\n",
    "    \n",
    "    This function draws `lines` with `color` and `thickness`.    \n",
    "    Lines are drawn on the image inplace (mutates the image).\n",
    "    If you want to make the lines semi-transparent, think about combining\n",
    "    this function with the weighted_img() function below\n",
    "    \"\"\"\n",
    "    for x1,y1,x2,y2 in lines:\n",
    "        cv2.line(img, (x1, y1), (x2, y2), color, thickness)\n",
    "\n",
    "def cluster_lines(lines):\n",
    "    lines_m = np.concatenate(lines[:]) #array of lines as a matrix\n",
    "    #finds line parameters y=ax+b\n",
    "    aa =[slope(x) for x in lines_m]\n",
    "    bb =[intercept(x) for x in lines_m]\n",
    "    #cleans the data, removes NaN and inf (better to have in polar coordinates)\n",
    "    a=[]\n",
    "    b=[]\n",
    "    for i in range(np.size(aa)):\n",
    "        if (~np.isnan(aa[i])) & (~np.isinf(aa[i])) & (~np.isnan(bb[i])) & (~np.isinf(bb[i])):\n",
    "            a.append(aa[i])\n",
    "            b.append(bb[i])\n",
    "    #finds the two clusters of lines with most frequent pair slope/intercepts\n",
    "    (H,ex,ey)=np.histogram2d(a,b)\n",
    "    cols=np.argsort(H.flatten())[[-1,-2]]%10\n",
    "    rows=np.floor_divide(np.argsort(H.flatten())[[-1,-2]],10)\n",
    "    #indeces for each set of lines\n",
    "    index1=(a>=ex[rows[0]]) & (a<=ex[rows[0]+1])& (b>=ey[cols[0]]) & (b<=ey[cols[0]+1])\n",
    "    index2=(a>=ex[rows[1]]) & (a<=ex[rows[1]+1])& (b>=ey[cols[1]]) & (b<=ey[cols[1]+1])\n",
    "    lines1=lines_m[index1,:]\n",
    "    lines2=lines_m[index2,:]\n",
    "    #check which are the left and right lines\n",
    "    if np.mean([slope(x) for x in lines1])<0:\n",
    "        lines_l=lines1\n",
    "        lines_r=lines2\n",
    "    else:\n",
    "        lines_l=lines2\n",
    "        lines_r=lines1\n",
    "    return (lines_l,lines_r)\n",
    "\n",
    "def merge_lines(lines_l,lines_r):\n",
    "    #estimates an average line\n",
    "    a_l=np.mean([slope(x) for x in lines_l])\n",
    "    a_r=np.mean([slope(x) for x in lines_r])\n",
    "    b_l=np.mean([intercept(x) for x in lines_l])\n",
    "    b_r=np.mean([intercept(x) for x in lines_r])   \n",
    "    #finds the starting point\n",
    "    ys=540 #bottom\n",
    "    xs_l=(ys-b_l)/a_l\n",
    "    xs_r=(ys-b_r)/a_r\n",
    "    #finds the final point   \n",
    "    yf=np.min(np.append(lines_l[:,[1,3]],lines_r[:,[1,3]]))#top of detected lines\n",
    "    xf_l=(yf-b_l)/a_l\n",
    "    xf_r=(yf-b_r)/a_r    \n",
    "    #merged lines\n",
    "    line_l_m = [int(xs_l),int(ys),int(xf_l),int(yf)]\n",
    "    line_r_m = [int(xs_r),int(ys),int(xf_r),int(yf)]\n",
    "    return ([line_l_m],[line_r_m])\n",
    "\n",
    "def hough_lines(img, rho, theta, threshold, min_line_len, max_line_gap):\n",
    "    \"\"\"\n",
    "    `img` should be the output of a Canny transform.\n",
    "        \n",
    "    Returns a set of lines.\n",
    "    \"\"\"\n",
    "    lines = cv2.HoughLinesP(img, rho, theta, threshold, np.array([]), minLineLength=min_line_len, maxLineGap=max_line_gap)\n",
    "    return lines\n",
    "\n",
    "# Python 3 has support for cool math symbols.\n",
    "\n",
    "def weighted_img(img, initial_img, α=0.8, β=1., λ=0.):\n",
    "    \"\"\"\n",
    "    `img` is the output of the hough_lines(), An image with lines drawn on it.\n",
    "    Should be a blank image (all black) with lines drawn on it.\n",
    "    \n",
    "    `initial_img` should be the image before any processing.\n",
    "    \n",
    "    The result image is computed as follows:\n",
    "    \n",
    "    initial_img * α + img * β + λ\n",
    "    NOTE: initial_img and img must be the same shape!\n",
    "    \"\"\"\n",
    "    return cv2.addWeighted(initial_img, α, img, β, λ)\n",
    "\n",
    "def slope(line):\n",
    "    #calculates the angle (in deg) between two line segments\n",
    "    (x1,y1,x2,y2)=line\n",
    "    return float(y2-y1)/(x2-x1)\n",
    "\n",
    "def intercept(line):\n",
    "    (x1,y1,x2,y2)=line\n",
    "    return (x2*y1-x1*y2)/(x2-x1)"
   ]
  },
  {
   "cell_type": "markdown",
   "metadata": {},
   "source": [
    "## Test on Images\n",
    "\n",
    "Now you should build your pipeline to work on the images in the directory \"test_images\"  \n",
    "**You should make sure your pipeline works well on these images before you try the videos.**"
   ]
  },
  {
   "cell_type": "code",
   "execution_count": null,
   "metadata": {
    "collapsed": false
   },
   "outputs": [],
   "source": [
    "import os\n",
    "im_files=os.listdir(\"test_images/\")\n",
    "for im_file in im_files:\n",
    "    #reading in an image\n",
    "    img = mpimg.imread('test_images/'+im_file)\n",
    "    #printing out some stats\n",
    "    print('This image is:', im_file, 'with dimesions:', img.shape)\n",
    "    img_g = grayscale(img)\n",
    "    #applies a Gaussian filter\n",
    "    img_g_b = gaussian_blur(img_g,5)\n",
    "    #applies a Canny filter\n",
    "    img_g_b_c = canny(img_g_b,50,150)\n",
    "    #selects region of interest\n",
    "    #vertices = np.array([[(50,540),(380, 200), (700, 200), (960,540)]])\n",
    "    imshape=img.shape\n",
    "    vertices = np.array([[(0,imshape[0]),(450, 320), (490, 320), (imshape[1],imshape[0])]], dtype=np.int32)\n",
    "    img_g_b_c_i = region_of_interest(img_g_b_c, vertices)\n",
    "    #hough transform filter\n",
    "    rho = 2 # distance resolution in pixels of the Hough grid\n",
    "    theta = np.pi/180 # angular resolution in radians of the Hough grid\n",
    "    threshold = 15     # minimum number of votes (intersections in Hough grid cell)\n",
    "    min_line_len = 40 #minimum number of pixels making up a line\n",
    "    max_line_gap = 20    # maximum gap in pixels between connectable line segments   \n",
    "    lines_h = hough_lines(img_g_b_c_i, rho, theta, threshold, min_line_len, max_line_gap)\n",
    "    img_g_b_c_i_h = np.zeros((img.shape[0], img.shape[1], 3), dtype=np.uint8)\n",
    "    #finds two clusters of lines\n",
    "    (lines_l,lines_r)=cluster_lines(lines_h)\n",
    "    #merge left and right sets\n",
    "    (line_l_m,line_r_m)=merge_lines(lines_l,lines_r)\n",
    "    #draws lines\n",
    "    draw_lines(img_g_b_c_i_h,line_l_m)\n",
    "    draw_lines(img_g_b_c_i_h,line_r_m)\n",
    "\n",
    "    #overlay images\n",
    "    img_l = weighted_img(img_g_b_c_i_h, img)\n",
    "    #plot each stage of the algorithm, except blurring\n",
    "    \n",
    "    \n",
    "    plt.subplots(figsize=(20, 10))\n",
    "    plt.subplot(161)\n",
    "    plt.imshow(img)\n",
    "    plt.subplot(162)        \n",
    "    plt.imshow(img_g,cmap='gray')\n",
    "    plt.subplot(163)\n",
    "    plt.imshow(img_g_b_c,cmap='gray')\n",
    "    plt.subplot(164)\n",
    "    plt.imshow(img_g_b_c_i,cmap='gray')\n",
    "    plt.subplot(165)\n",
    "    plt.imshow(img_g_b_c_i_h)\n",
    "    plt.subplot(166)\n",
    "    plt.imshow(img_l)\n"
   ]
  },
  {
   "cell_type": "markdown",
   "metadata": {},
   "source": [
    "run your solution on all test_images and make copies into the test_images directory)."
   ]
  },
  {
   "cell_type": "markdown",
   "metadata": {},
   "source": [
    "## Test on Videos\n",
    "\n",
    "You know what's cooler than drawing lanes over images? Drawing lanes over video!\n",
    "\n",
    "We can test our solution on two provided videos:\n",
    "\n",
    "`solidWhiteRight.mp4`\n",
    "\n",
    "`solidYellowLeft.mp4`"
   ]
  },
  {
   "cell_type": "code",
   "execution_count": null,
   "metadata": {
    "collapsed": false
   },
   "outputs": [],
   "source": [
    "# Import everything needed to edit/save/watch video clips\n",
    "from moviepy.editor import VideoFileClip\n",
    "from IPython.display import HTML"
   ]
  },
  {
   "cell_type": "code",
   "execution_count": null,
   "metadata": {
    "collapsed": true
   },
   "outputs": [],
   "source": [
    "def process_image(img):\n",
    "    # NOTE: The output you return should be a color image (3 channel) for processing video below\n",
    "    # TODO: put your pipeline here,\n",
    "    # you should return the final output (image with lines are drawn on lanes)\n",
    "    img_g = grayscale(img)\n",
    "    #applies a Gaussian filter\n",
    "    img_g_b = gaussian_blur(img_g,5)\n",
    "    #applies a Canny filter\n",
    "    img_g_b_c = canny(img_g_b,50,150)\n",
    "    #selects region of interest\n",
    "    #vertices = np.array([[(50,540),(380, 200), (700, 200), (960,540)]])\n",
    "    imshape=img.shape\n",
    "    vertices = np.array([[(0,imshape[0]),(450, 320), (490, 320), (imshape[1],imshape[0])]], dtype=np.int32)\n",
    "    img_g_b_c_i = region_of_interest(img_g_b_c, vertices)\n",
    "    #hough transform filter\n",
    "    rho = 2 # distance resolution in pixels of the Hough grid\n",
    "    theta = np.pi/180 # angular resolution in radians of the Hough grid\n",
    "    threshold = 15     # minimum number of votes (intersections in Hough grid cell)\n",
    "    min_line_len = 40 #minimum number of pixels making up a line\n",
    "    max_line_gap = 20    # maximum gap in pixels between connectable line segments   \n",
    "    lines_h = hough_lines(img_g_b_c_i, rho, theta, threshold, min_line_len, max_line_gap)\n",
    "    img_g_b_c_i_h = np.zeros((img.shape[0], img.shape[1], 3), dtype=np.uint8)\n",
    "    #finds two clusters of lines\n",
    "    (lines_l,lines_r)=cluster_lines(lines_h)\n",
    "    #merges the two lines\n",
    "    (line_l_m,line_r_m)=merge_lines(lines_l,lines_r)\n",
    "    #draws lines\n",
    "    draw_lines(img_g_b_c_i_h,line_l_m,[255,0,0],5)\n",
    "    draw_lines(img_g_b_c_i_h,line_r_m,[255,0,0],5)\n",
    "    #overlay images\n",
    "    img_l = weighted_img(img_g_b_c_i_h, img)\n",
    "    result=img_l\n",
    "    return result"
   ]
  },
  {
   "cell_type": "markdown",
   "metadata": {},
   "source": [
    "Let's try the one with the solid white lane on the right first ..."
   ]
  },
  {
   "cell_type": "code",
   "execution_count": null,
   "metadata": {
    "collapsed": false
   },
   "outputs": [],
   "source": [
    "white_output = 'white.mp4'\n",
    "clip1 = VideoFileClip(\"solidWhiteRight.mp4\")\n",
    "white_clip = clip1.fl_image(process_image) #NOTE: this function expects color images!!\n",
    "%time white_clip.write_videofile(white_output, audio=False)"
   ]
  },
  {
   "cell_type": "markdown",
   "metadata": {},
   "source": [
    "Play the video inline, or if you prefer find the video in your filesystem (should be in the same directory) and play it in your video player of choice."
   ]
  },
  {
   "cell_type": "code",
   "execution_count": null,
   "metadata": {
    "collapsed": false
   },
   "outputs": [],
   "source": [
    "HTML(\"\"\"\n",
    "<video width=\"960\" height=\"540\" controls>\n",
    "  <source src=\"{0}\">\n",
    "</video>\n",
    "\"\"\".format(white_output))"
   ]
  },
  {
   "cell_type": "markdown",
   "metadata": {},
   "source": [
    "**At this point, if you were successful you probably have the Hough line segments drawn onto the road, but what about identifying the full extent of the lane and marking it clearly as in the example video (P1_example.mp4)?  Think about defining a line to run the full length of the visible lane based on the line segments you identified with the Hough Transform.  Modify your draw_lines function accordingly and try re-running your pipeline.**"
   ]
  },
  {
   "cell_type": "markdown",
   "metadata": {},
   "source": [
    "Now for the one with the solid yellow lane on the left. This one's more tricky!"
   ]
  },
  {
   "cell_type": "code",
   "execution_count": null,
   "metadata": {
    "collapsed": false
   },
   "outputs": [],
   "source": [
    "yellow_output = 'yellow.mp4'\n",
    "clip2 = VideoFileClip('solidYellowLeft.mp4')\n",
    "yellow_clip = clip2.fl_image(process_image)\n",
    "%time yellow_clip.write_videofile(yellow_output, audio=False)"
   ]
  },
  {
   "cell_type": "code",
   "execution_count": null,
   "metadata": {
    "collapsed": false
   },
   "outputs": [],
   "source": [
    "HTML(\"\"\"\n",
    "<video width=\"960\" height=\"540\" controls>\n",
    "  <source src=\"{0}\">\n",
    "</video>\n",
    "\"\"\".format(yellow_output))"
   ]
  },
  {
   "cell_type": "markdown",
   "metadata": {},
   "source": [
    "## Reflections\n",
    "\n",
    "Congratulations on finding the lane lines!  As the final step in this project, we would like you to share your thoughts on your lane finding pipeline... specifically, how could you imagine making your algorithm better / more robust?  Where will your current algorithm be likely to fail?\n",
    "\n",
    "Please add your thoughts below,  and if you're up for making your pipeline more robust, be sure to scroll down and check out the optional challenge video below!\n"
   ]
  },
  {
   "cell_type": "markdown",
   "metadata": {},
   "source": [
    "Some possible improvements to this algorithm\n",
    "1) Make it less dependent on absolute pixel positioning: the tuning variables for the region of interest and Hough transform are based on absolute pixel values. This will depend considerably on the setup, e.g. the camera's resolution and its positioning. It would be better to consider how the actual environmental setup (e.g. length of lanes) will translate into pixels according to a camera model. This would lead to a more generally applicable algorithm.\n",
    "2) Lane tracking: in order to better track the lanes and avoid jumpy behavior of lanes, it would be better to track these features using a tracking filter, that takes into account how fast the car is moving and how fast a change in lane direction can be expected between frames. This can also be used to reduce the amount of clutter data by considering data association.\n",
    "3) Geometrical features: while a straight line model is simple, it does not represent the lanes during turns. Considering a lane model that admits curves could lead to better performance. In fact, it is possible to use more geometric information to improve the algorithm, e.g. that the lanes are symmetric or that they are located within the same height (depending on the camera location relative to the car). Estimating the entire area between the lanes instead of the lanes themselves could possibly be better since more pixels (information) can be considered.\n",
    "4) Road segmentation: in order to remove the effects of the background, it would be useful to detect the limits of the road, leading to a more appropriate region of interest. This can possibly be done considering features of the road such as color and homogeneity. \n",
    "5) Car detection: to avoid creating lines over the cars, it would be good to remove the pixels where cars have been detected."
   ]
  },
  {
   "cell_type": "markdown",
   "metadata": {},
   "source": [
    "## Submission\n",
    "\n",
    "If you're satisfied with your video outputs it's time to submit!  Submit this ipython notebook for review.\n"
   ]
  },
  {
   "cell_type": "markdown",
   "metadata": {
    "collapsed": true
   },
   "source": [
    "## Optional Challenge\n",
    "\n",
    "Try your lane finding pipeline on the video below.  Does it still work?  Can you figure out a way to make it more robust?  If you're up for the challenge, modify your pipeline so it works with this video and submit it along with the rest of your project!"
   ]
  },
  {
   "cell_type": "code",
   "execution_count": null,
   "metadata": {
    "collapsed": false
   },
   "outputs": [],
   "source": [
    "challenge_output = 'extra.mp4'\n",
    "clip2 = VideoFileClip('challenge.mp4')\n",
    "challenge_clip = clip2.fl_image(process_image)\n",
    "%time challenge_clip.write_videofile(challenge_output, audio=False)"
   ]
  },
  {
   "cell_type": "code",
   "execution_count": null,
   "metadata": {
    "collapsed": false
   },
   "outputs": [],
   "source": [
    "HTML(\"\"\"\n",
    "<video width=\"960\" height=\"540\" controls>\n",
    "  <source src=\"{0}\">\n",
    "</video>\n",
    "\"\"\".format(challenge_output))"
   ]
  },
  {
   "cell_type": "code",
   "execution_count": null,
   "metadata": {
    "collapsed": true
   },
   "outputs": [],
   "source": []
  }
 ],
 "metadata": {
  "anaconda-cloud": {},
  "kernelspec": {
   "display_name": "Python [conda root]",
   "language": "python",
   "name": "conda-root-py"
  },
  "language_info": {
   "codemirror_mode": {
    "name": "ipython",
    "version": 3
   },
   "file_extension": ".py",
   "mimetype": "text/x-python",
   "name": "python",
   "nbconvert_exporter": "python",
   "pygments_lexer": "ipython3",
   "version": "3.5.2"
  }
 },
 "nbformat": 4,
 "nbformat_minor": 0
}
